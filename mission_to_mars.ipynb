{
 "cells": [
  {
   "cell_type": "code",
   "execution_count": 2,
   "metadata": {},
   "outputs": [],
   "source": [
    "#import BeautifulSoup\n",
    "from bs4 import BeautifulSoup as bs\n",
    "import requests\n",
    "from selenium import webdriver\n",
    "from splinter import Browser\n",
    "import pandas as pd"
   ]
  },
  {
   "cell_type": "code",
   "execution_count": 13,
   "metadata": {},
   "outputs": [],
   "source": [
    "#set up executable path and Browser from Splinter\n",
    "executable_path = {'executable_path': 'chromedriver.exe'}\n",
    "browser = Browser('chrome', **executable_path, headless=False)"
   ]
  },
  {
   "cell_type": "code",
   "execution_count": 3,
   "metadata": {},
   "outputs": [],
   "source": [
    "#import webpage to be scraped, use requests module to obtain webpage URL and parse with beautifulsoup\n",
    "url = 'https://mars.nasa.gov/news/'\n",
    "\n",
    "#visit url and get html from new browser (bypass Javascript), use BeautifulSoup parser\n",
    "browser.visit(url)\n",
    "html = browser.html\n",
    "soup = bs(html, 'html.parser')"
   ]
  },
  {
   "cell_type": "code",
   "execution_count": 6,
   "metadata": {},
   "outputs": [],
   "source": [
    "#find all results with content-title within div\n",
    "results = soup.find_all('div', class_=\"content_title\")\n",
    "\n",
    "#find first title\n",
    "news_title = results[0].text\n",
    "\n",
    "#first first paragraph body associated with title\n",
    "p_results = soup.find_all('div', class_=\"article_teaser_body\")\n",
    "news_p = p_results[0].text\n"
   ]
  },
  {
   "cell_type": "code",
   "execution_count": null,
   "metadata": {},
   "outputs": [],
   "source": [
    "### JPL Mars Space Images - Featured Image\n",
    "# Visit the url for JPL Featured Space Image [here](https://www.jpl.nasa.gov/spaceimages/?search=&category=Mars).\n",
    "# Use splinter to navigate the site and find the image url for the current Featured Mars Image and assign the url string to a variable called `featured_image_url`.\n",
    "# Make sure to find the image url to the full size `.jpg` image.\n",
    "# Make sure to save a complete url string for this image.\n",
    "# # Example:\n",
    "# featured_image_url = 'https://www.jpl.nasa.gov/spaceimages/images/largesize/PIA16225_hires.jpg'\n"
   ]
  },
  {
   "cell_type": "code",
   "execution_count": 116,
   "metadata": {},
   "outputs": [
    {
     "data": {
      "text/plain": [
       "'https://www.jpl.nasa.gov/spaceimages/images/mediumsize/PIA18295_ip.jpg'"
      ]
     },
     "execution_count": 116,
     "metadata": {},
     "output_type": "execute_result"
    }
   ],
   "source": [
    "#assign url and visit\n",
    "executable_path = {'executable_path': 'chromedriver.exe'}\n",
    "browser = Browser('chrome', **executable_path, headless=False)\n",
    "jp_url = 'https://www.jpl.nasa.gov/spaceimages/?search=&category=Mars'\n",
    "browser.visit(jp_url)\n",
    "\n",
    "#click through to full image\n",
    "browser.click_link_by_partial_text('FULL IMAGE')\n",
    "\n",
    "#define img site url from open browser after clicking on full image\n",
    "img_html = browser.html\n",
    "img_soup = bs(img_html, 'html.parser')\n",
    "\n",
    "#find all articles\n",
    "result_1 = img_soup.find_all(\"article\")\n",
    "# print(result_1[0].prettify())\n",
    "\n",
    "#img link is attribute withing article within data-fancybox-href\n",
    "img_link = result_1[0].a[\"data-fancybox-href\"]    \n",
    "\n",
    "#define base url\n",
    "base_img_url = \"https://www.jpl.nasa.gov\"\n",
    "\n",
    "#combined base url with specific image url\n",
    "featured_img_url = base_img_url + img_link\n",
    "featured_img_url"
   ]
  },
  {
   "cell_type": "code",
   "execution_count": 74,
   "metadata": {},
   "outputs": [],
   "source": [
    "### Mars Weather\n",
    "\n",
    "# Visit the Mars Weather twitter account [here](https://twitter.com/marswxreport?lang=en) and scrape the latest Mars weather tweet from the page. \n",
    "# Save the tweet text for the weather report as a variable called `mars_weather`.\n",
    "# Example:\n",
    "# mars_weather = 'Sol 1801 (Aug 30, 2017), Sunny, high -21C/-5F, low -80C/-112F, pressure at 8.82 hPa, daylight 06:09-17:55'\n",
    "\n"
   ]
  },
  {
   "cell_type": "code",
   "execution_count": 210,
   "metadata": {},
   "outputs": [
    {
     "name": "stdout",
     "output_type": "stream",
     "text": [
      "InSight sol 84 (2019-02-20) low -95.1ºC (-139.2ºF) high -13.2ºC (8.3ºF)\n",
      "winds from the SW at 4.1 m/s (9.3 mph) gusting to 10.8 m/s (24.2 mph)pic.twitter.com/WlR4gr8gpC\n"
     ]
    }
   ],
   "source": [
    "#assign url and visit\n",
    "executable_path = {'executable_path': 'chromedriver.exe'}\n",
    "browser = Browser('chrome', **executable_path, headless=False)\n",
    "t_url = 'https://twitter.com/marswxreport?lang=en'\n",
    "browser.visit(t_url)\n",
    "t_html = browser.html\n",
    "t_soup = bs(t_html, 'html.parser')\n",
    "\n",
    "#find results that contain tweet stream\n",
    "t_results = t_soup.find_all('div', class_=\"js-tweet-text-container\")\n",
    "# print(t_results[0].prettify())\n",
    "\n",
    "#look through results to find first paragraph entry that contains 'Insight sol' as key for weather data, if found then break the loop and store string\n",
    "for result in t_results:\n",
    "    p_text = result.p.text\n",
    "    key_string = \"InSight sol\"\n",
    "    if key_string not in p_text:\n",
    "        continue\n",
    "    else: mars_weather = p_text\n",
    "    break\n",
    "\n",
    "print(mars_weather)"
   ]
  },
  {
   "cell_type": "code",
   "execution_count": null,
   "metadata": {},
   "outputs": [],
   "source": [
    "### Mars Facts\n",
    "# Visit the Mars Facts webpage [here](http://space-facts.com/mars/) and use Pandas to scrape the table containing facts about the planet including Diameter, Mass, etc.\n",
    "# Use Pandas to convert the data to a HTML table string.\n"
   ]
  },
  {
   "cell_type": "code",
   "execution_count": 195,
   "metadata": {},
   "outputs": [
    {
     "data": {
      "text/plain": [
       "'<table border=\"1\" class=\"dataframe\">\\n  <thead>\\n    <tr style=\"text-align: right;\">\\n      <th></th>\\n      <th>Paramter</th>\\n      <th>Value</th>\\n    </tr>\\n  </thead>\\n  <tbody>\\n    <tr>\\n      <th>0</th>\\n      <td>Equatorial Diameter:</td>\\n      <td>6,792 km</td>\\n    </tr>\\n    <tr>\\n      <th>1</th>\\n      <td>Polar Diameter:</td>\\n      <td>6,752 km</td>\\n    </tr>\\n    <tr>\\n      <th>2</th>\\n      <td>Mass:</td>\\n      <td>6.42 x 10^23 kg (10.7% Earth)</td>\\n    </tr>\\n    <tr>\\n      <th>3</th>\\n      <td>Moons:</td>\\n      <td>2 (Phobos &amp; Deimos)</td>\\n    </tr>\\n    <tr>\\n      <th>4</th>\\n      <td>Orbit Distance:</td>\\n      <td>227,943,824 km (1.52 AU)</td>\\n    </tr>\\n    <tr>\\n      <th>5</th>\\n      <td>Orbit Period:</td>\\n      <td>687 days (1.9 years)</td>\\n    </tr>\\n    <tr>\\n      <th>6</th>\\n      <td>Surface Temperature:</td>\\n      <td>-153 to 20 °C</td>\\n    </tr>\\n    <tr>\\n      <th>7</th>\\n      <td>First Record:</td>\\n      <td>2nd millennium BC</td>\\n    </tr>\\n    <tr>\\n      <th>8</th>\\n      <td>Recorded By:</td>\\n      <td>Egyptian astronomers</td>\\n    </tr>\\n  </tbody>\\n</table>'"
      ]
     },
     "execution_count": 195,
     "metadata": {},
     "output_type": "execute_result"
    }
   ],
   "source": [
    "fact_url = \"http://space-facts.com/mars/\"\n",
    "\n",
    "#read in tables as html via PANDAS\n",
    "tables = pd.read_html(fact_url)\n",
    "\n",
    "#mars facts is only table on page, so 0th dataframe element is table list\n",
    "mars_facts_df = tables[0]\n",
    "\n",
    "#rename columns to parameter and value to clean up dataframe\n",
    "mars_facts_df = mars_facts_df.rename(columns={0:\"Paramter\", 1:\"Value\"})\n",
    "\n",
    "#convert dataframe to html string\n",
    "mars_html_table = mars_facts_df.to_html()\n",
    "mars_html_table"
   ]
  },
  {
   "cell_type": "code",
   "execution_count": 196,
   "metadata": {},
   "outputs": [],
   "source": [
    "### Mars Hemispheres\n",
    "# Visit the USGS Astrogeology site [here](https://astrogeology.usgs.gov/search/results?q=hemisphere+enhanced&k1=target&v1=Mars) \n",
    "# to obtain high resolution images for each of Mar's hemispheres.\n",
    "# You will need to click each of the links to the hemispheres in order to find the image url to the full resolution image.\n",
    "# Save both the image url string for the full resolution hemisphere image, and the Hemisphere title containing the hemisphere name. \n",
    "# Use a Python dictionary to store the data using the keys `img_url` and `title`.\n",
    "# Append the dictionary with the image url string and the hemisphere title to a list. This list will contain one dictionary for each hemisphere.\n",
    "#  Example:\n",
    "# hemisphere_image_urls = [\n",
    "#     {\"title\": \"Valles Marineris Hemisphere\", \"img_url\": \"...\"},\n",
    "#     {\"title\": \"Cerberus Hemisphere\", \"img_url\": \"...\"},\n",
    "#     {\"title\": \"Schiaparelli Hemisphere\", \"img_url\": \"...\"},\n",
    "#     {\"title\": \"Syrtis Major Hemisphere\", \"img_url\": \"...\"},\n",
    "# ]"
   ]
  },
  {
   "cell_type": "code",
   "execution_count": 16,
   "metadata": {},
   "outputs": [],
   "source": [
    "#assign url and visit\n",
    "executable_path = {'executable_path': 'chromedriver.exe'}\n",
    "browser = Browser('chrome', **executable_path, headless=False)\n",
    "\n",
    "#visit main page\n",
    "usgs_url = 'https://astrogeology.usgs.gov/search/results?q=hemisphere+enhanced&k1=target&v1=Mars'\n",
    "browser.visit(usgs_url)\n",
    "\n",
    "#define html from main page and parse\n",
    "usgs_html = browser.html\n",
    "usgs_soup = bs(usgs_html, 'html.parser')\n",
    "\n",
    "#find results for each item\n",
    "usgs_results = usgs_soup.find_all('div', class_=\"item\")\n",
    "# len(usgs_results)\n",
    "\n",
    "hemisphere_image_urls = {}\n",
    "\n",
    "for i in range(0, len(usgs_results)):\n",
    "    #find title via h3 header, strip out word \"Enhanced\"\n",
    "    title = usgs_results[i].find('h3').text.strip(\"Enhanced\")\n",
    "        \n",
    "    #find image url - locate enhanced image url and open new browser\n",
    "    image_url = usgs_results[i].a[\"href\"]\n",
    "    base_url = \"https://astrogeology.usgs.gov\"\n",
    "    enhanced_url = base_url + image_url\n",
    "    browser.visit(enhanced_url)\n",
    "    \n",
    "    #create new base line html from new enhanced image in browser\n",
    "    sample_html = browser.html\n",
    "    sample_soup = bs(sample_html, 'html.parser')\n",
    "    \n",
    "    #find link within class of downloads - sample results will only return one item\n",
    "    sample_results = sample_soup.find_all('div', class_=\"downloads\")\n",
    "    img_url = sample_results[0].a[\"href\"]\n",
    "\n",
    "    #add title and image url to dictionary\n",
    "    hemisphere_image_urls[i] = {\"title\": title, \n",
    "                                \"img url\": img_url}\n",
    "    \n"
   ]
  },
  {
   "cell_type": "code",
   "execution_count": null,
   "metadata": {},
   "outputs": [],
   "source": []
  },
  {
   "cell_type": "code",
   "execution_count": null,
   "metadata": {},
   "outputs": [],
   "source": []
  },
  {
   "cell_type": "code",
   "execution_count": null,
   "metadata": {},
   "outputs": [],
   "source": []
  }
 ],
 "metadata": {
  "kernelspec": {
   "display_name": "Python 3",
   "language": "python",
   "name": "python3"
  },
  "language_info": {
   "codemirror_mode": {
    "name": "ipython",
    "version": 3
   },
   "file_extension": ".py",
   "mimetype": "text/x-python",
   "name": "python",
   "nbconvert_exporter": "python",
   "pygments_lexer": "ipython3",
   "version": "3.7.0"
  }
 },
 "nbformat": 4,
 "nbformat_minor": 2
}
