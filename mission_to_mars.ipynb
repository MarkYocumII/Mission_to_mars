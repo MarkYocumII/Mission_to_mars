{
 "cells": [
  {
   "cell_type": "code",
   "execution_count": 12,
   "metadata": {},
   "outputs": [],
   "source": [
    "#import BeautifulSoup\n",
    "from bs4 import BeautifulSoup as bs\n",
    "import requests\n",
    "from selenium import webdriver\n",
    "from splinter import Browser"
   ]
  },
  {
   "cell_type": "code",
   "execution_count": 13,
   "metadata": {},
   "outputs": [],
   "source": [
    "#set up executable path and Browser from Splinter\n",
    "executable_path = {'executable_path': 'chromedriver.exe'}\n",
    "browser = Browser('chrome', **executable_path, headless=False)"
   ]
  },
  {
   "cell_type": "code",
   "execution_count": 3,
   "metadata": {},
   "outputs": [],
   "source": [
    "#import webpage to be scraped, use requests module to obtain webpage URL and parse with beautifulsoup\n",
    "url = 'https://mars.nasa.gov/news/'\n",
    "\n",
    "#visit url and get html from new browser (bypass Javascript), use BeautifulSoup parser\n",
    "browser.visit(url)\n",
    "html = browser.html\n",
    "soup = bs(html, 'html.parser')"
   ]
  },
  {
   "cell_type": "code",
   "execution_count": 6,
   "metadata": {},
   "outputs": [],
   "source": [
    "#find all results with content-title within div\n",
    "results = soup.find_all('div', class_=\"content_title\")\n",
    "\n",
    "#find first title\n",
    "news_title = results[0].text\n",
    "\n",
    "#first first paragraph body associated with title\n",
    "p_results = soup.find_all('div', class_=\"article_teaser_body\")\n",
    "news_p = p_results[0].text\n"
   ]
  },
  {
   "cell_type": "code",
   "execution_count": null,
   "metadata": {},
   "outputs": [],
   "source": [
    "### JPL Mars Space Images - Featured Image\n",
    "# Visit the url for JPL Featured Space Image [here](https://www.jpl.nasa.gov/spaceimages/?search=&category=Mars).\n",
    "# Use splinter to navigate the site and find the image url for the current Featured Mars Image and assign the url string to a variable called `featured_image_url`.\n",
    "# Make sure to find the image url to the full size `.jpg` image.\n",
    "# Make sure to save a complete url string for this image.\n",
    "# # Example:\n",
    "# featured_image_url = 'https://www.jpl.nasa.gov/spaceimages/images/largesize/PIA16225_hires.jpg'\n"
   ]
  },
  {
   "cell_type": "code",
   "execution_count": 116,
   "metadata": {},
   "outputs": [
    {
     "data": {
      "text/plain": [
       "'https://www.jpl.nasa.gov/spaceimages/images/mediumsize/PIA18295_ip.jpg'"
      ]
     },
     "execution_count": 116,
     "metadata": {},
     "output_type": "execute_result"
    }
   ],
   "source": [
    "#assign url and visit\n",
    "executable_path = {'executable_path': 'chromedriver.exe'}\n",
    "browser = Browser('chrome', **executable_path, headless=False)\n",
    "jp_url = 'https://www.jpl.nasa.gov/spaceimages/?search=&category=Mars'\n",
    "browser.visit(jp_url)\n",
    "\n",
    "#click through to full image\n",
    "browser.click_link_by_partial_text('FULL IMAGE')\n",
    "\n",
    "#define img site url from open browser after clicking on full image\n",
    "img_html = browser.html\n",
    "img_soup = bs(img_html, 'html.parser')\n",
    "\n",
    "#find all articles\n",
    "result_1 = img_soup.find_all(\"article\")\n",
    "# print(result_1[0].prettify())\n",
    "\n",
    "#img link is attribute withing article within data-fancybox-href\n",
    "img_link = result_1[0].a[\"data-fancybox-href\"]    \n",
    "\n",
    "#define base url\n",
    "base_img_url = \"https://www.jpl.nasa.gov\"\n",
    "\n",
    "#combined base url with specific image url\n",
    "featured_img_url = base_img_url + img_link\n",
    "featured_img_url"
   ]
  },
  {
   "cell_type": "code",
   "execution_count": 74,
   "metadata": {},
   "outputs": [],
   "source": [
    "### Mars Weather\n",
    "\n",
    "# Visit the Mars Weather twitter account [here](https://twitter.com/marswxreport?lang=en) and scrape the latest Mars weather tweet from the page. \n",
    "# Save the tweet text for the weather report as a variable called `mars_weather`.\n",
    "# Example:\n",
    "# mars_weather = 'Sol 1801 (Aug 30, 2017), Sunny, high -21C/-5F, low -80C/-112F, pressure at 8.82 hPa, daylight 06:09-17:55'\n",
    "\n"
   ]
  },
  {
   "cell_type": "code",
   "execution_count": 181,
   "metadata": {},
   "outputs": [
    {
     "name": "stdout",
     "output_type": "stream",
     "text": [
      "InSight sol 84 (2019-02-20) low -95.1ºC (-139.2ºF) high -13.2ºC (8.3ºF)\n",
      "winds from the SW at 4.1 m/s (9.3 mph) gusting to 10.8 m/s (24.2 mph)pic.twitter.com/WlR4gr8gpC\n"
     ]
    }
   ],
   "source": [
    "#assign url and visit\n",
    "executable_path = {'executable_path': 'chromedriver.exe'}\n",
    "browser = Browser('chrome', **executable_path, headless=False)\n",
    "t_url = 'https://twitter.com/marswxreport?lang=en'\n",
    "browser.visit(t_url)\n",
    "t_html = browser.html\n",
    "t_soup = bs(t_html, 'html.parser')\n",
    "\n",
    "#find results that contain tweet stream\n",
    "t_results = t_soup.find_all('div', class_=\"js-tweet-text-container\")\n",
    "# print(t_results[0].prettify())\n",
    "\n",
    "#look through results to find first paragraph entry that contains 'Insight sol' as key for weather data, if found then break the loop and store string\n",
    "for result in t_results:\n",
    "    p_text = result.p.text\n",
    "    key_string = \"InSight sol\"\n",
    "    if key_string not in p_text:\n",
    "        continue\n",
    "    else: mars_weather = p_text\n",
    "    break\n",
    "\n",
    "print(mars_weather)"
   ]
  },
  {
   "cell_type": "code",
   "execution_count": null,
   "metadata": {},
   "outputs": [],
   "source": []
  },
  {
   "cell_type": "code",
   "execution_count": null,
   "metadata": {},
   "outputs": [],
   "source": []
  },
  {
   "cell_type": "code",
   "execution_count": null,
   "metadata": {},
   "outputs": [],
   "source": [
    "### Mars Facts\n",
    "# Visit the Mars Facts webpage [here](http://space-facts.com/mars/) and use Pandas to scrape the table containing facts about the planet including Diameter, Mass, etc.\n",
    "# Use Pandas to convert the data to a HTML table string.\n"
   ]
  },
  {
   "cell_type": "code",
   "execution_count": null,
   "metadata": {},
   "outputs": [],
   "source": []
  }
 ],
 "metadata": {
  "kernelspec": {
   "display_name": "Python 3",
   "language": "python",
   "name": "python3"
  },
  "language_info": {
   "codemirror_mode": {
    "name": "ipython",
    "version": 3
   },
   "file_extension": ".py",
   "mimetype": "text/x-python",
   "name": "python",
   "nbconvert_exporter": "python",
   "pygments_lexer": "ipython3",
   "version": "3.7.0"
  }
 },
 "nbformat": 4,
 "nbformat_minor": 2
}
